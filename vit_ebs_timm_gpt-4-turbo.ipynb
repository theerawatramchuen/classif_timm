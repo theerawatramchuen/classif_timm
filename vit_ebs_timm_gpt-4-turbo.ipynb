{
 "cells": [
  {
   "cell_type": "markdown",
   "id": "5a445994-345c-4dd7-8e60-03edcf3e4091",
   "metadata": {},
   "source": [
    "My prompt:\n",
    "Give me python jupyter note book code of Vision Transformer Image classification custom model training as below requirements.\n",
    " 1.Utilize GPU\n",
    " 2.Transfer Learning with pretrain weight\n",
    " 3.Custom dataset folder\n",
    " 4.Ratio Training and Testing 70/30 autosplit with random\n",
    " 5.Number of classes is the number of subfolders under custom dataset folder\n",
    " 6.Preset dropout rate\n",
    " 7.Preset augmentation option\n",
    " 8.Print result Acc and Loss of Training and testing every epoch\n",
    " 9.Trend chart Acc and Loss of Training and testing\n",
    "10.Preset number of epoch\n",
    "11.summary info before training loop. 11.1 Custom dataset folder 11.2 Number of classes with class name 11.3 Preset dropout rate 11.4 Training Testing 12.Ratio with number of images 11.5 Learning rate 11.6 Dropout P value\n",
    "13.Save model file with timestamp name in the custom dataset folder\n",
    "\n",
    "gpt-4-turbo:\n",
    "To fulfill your request, I'll provide a Python Jupyter notebook code that uses a Vision Transformer (ViT) for image classification with transfer learning on a custom dataset. Please note that in practice, you would need to install the necessary libraries, such as torch, torchvision, transformers, and matplotlib, and have a compatible GPU environment.\n",
    "\n",
    "Here is an example of what your Jupyter notebook might look like:"
   ]
  },
  {
   "cell_type": "code",
   "execution_count": 1,
   "id": "ef58f141-4122-4d78-b65e-9d7d06817682",
   "metadata": {},
   "outputs": [],
   "source": [
    "import os\n",
    "import time\n",
    "import torch\n",
    "import timm\n",
    "import numpy as np\n",
    "import matplotlib.pyplot as plt\n",
    "from torchvision import datasets, transforms\n",
    "from torch.utils.data import DataLoader, random_split\n",
    "from sklearn.model_selection import train_test_split\n",
    "from datetime import datetime\n",
    "from PIL import Image"
   ]
  },
  {
   "cell_type": "code",
   "execution_count": 2,
   "id": "8f1ee3b9-67a6-442e-806a-a9057064da54",
   "metadata": {},
   "outputs": [],
   "source": [
    "# Set device\n",
    "device = torch.device(\"cuda\" if torch.cuda.is_available() else \"cpu\")\n",
    "\n",
    "# Custom dataset folder\n",
    "dataset_path = r\"dataset_ebs\"  # Update this path"
   ]
  },
  {
   "cell_type": "code",
   "execution_count": 3,
   "id": "b7346cb7-43d4-425c-8d87-7a13585dcdf9",
   "metadata": {},
   "outputs": [],
   "source": [
    "# Preset values\n",
    "dropout_rate = 0.0\n",
    "batch_size = 32\n",
    "learning_rate = 1e-4\n",
    "num_epochs = 10\n",
    "image_size = 224"
   ]
  },
  {
   "cell_type": "code",
   "execution_count": 4,
   "id": "77f1d768-2bc6-4af1-9937-fd2332939ebb",
   "metadata": {},
   "outputs": [],
   "source": [
    "# Data augmentation and normalization for training\n",
    "transform = transforms.Compose([\n",
    "    transforms.Resize((image_size, image_size)),\n",
    "    transforms.RandomHorizontalFlip(),\n",
    "    transforms.ToTensor(),\n",
    "    transforms.Normalize(mean=[0.485, 0.456, 0.406], std=[0.229, 0.224, 0.225]),\n",
    "])\n",
    "\n",
    "# Load custom dataset\n",
    "dataset = datasets.ImageFolder(dataset_path, transform=transform)\n",
    "class_names = dataset.classes\n",
    "num_classes = len(class_names)"
   ]
  },
  {
   "cell_type": "code",
   "execution_count": 5,
   "id": "03e6ddb5-5cd5-4707-968d-7bd1689f1018",
   "metadata": {},
   "outputs": [],
   "source": [
    "# Split dataset into training and validation sets\n",
    "train_size = int(0.7 * len(dataset))\n",
    "val_size = len(dataset) - train_size\n",
    "train_dataset, val_dataset = random_split(dataset, [train_size, val_size])"
   ]
  },
  {
   "cell_type": "code",
   "execution_count": 6,
   "id": "ea711ecf-5d86-4cb9-abaf-ec7283253ddb",
   "metadata": {},
   "outputs": [],
   "source": [
    "# Create data loaders\n",
    "train_loader = DataLoader(train_dataset, batch_size=batch_size, shuffle=True)\n",
    "val_loader = DataLoader(val_dataset, batch_size=batch_size)"
   ]
  },
  {
   "cell_type": "code",
   "execution_count": 7,
   "id": "3fda9f83-306e-45ad-9d7f-89ed8b7b55ad",
   "metadata": {},
   "outputs": [
    {
     "data": {
      "text/plain": [
       "['mobilenetv2_035',\n",
       " 'mobilenetv2_050',\n",
       " 'mobilenetv2_075',\n",
       " 'mobilenetv2_100',\n",
       " 'mobilenetv2_110d',\n",
       " 'mobilenetv2_120d',\n",
       " 'mobilenetv2_140',\n",
       " 'mobilenetv3_large_075',\n",
       " 'mobilenetv3_large_100',\n",
       " 'mobilenetv3_rw',\n",
       " 'mobilenetv3_small_050',\n",
       " 'mobilenetv3_small_075',\n",
       " 'mobilenetv3_small_100',\n",
       " 'mobileone_s0',\n",
       " 'mobileone_s1',\n",
       " 'mobileone_s2',\n",
       " 'mobileone_s3',\n",
       " 'mobileone_s4',\n",
       " 'mobilevit_s',\n",
       " 'mobilevit_xs',\n",
       " 'mobilevit_xxs',\n",
       " 'mobilevitv2_050',\n",
       " 'mobilevitv2_075',\n",
       " 'mobilevitv2_100',\n",
       " 'mobilevitv2_125',\n",
       " 'mobilevitv2_150',\n",
       " 'mobilevitv2_175',\n",
       " 'mobilevitv2_200']"
      ]
     },
     "execution_count": 7,
     "metadata": {},
     "output_type": "execute_result"
    }
   ],
   "source": [
    "# List of Vit Models with Pretrained Weight\n",
    "all_vit_models = timm.list_models('mobile*')\n",
    "all_vit_models"
   ]
  },
  {
   "cell_type": "code",
   "execution_count": 8,
   "id": "eb192149-94dd-414f-90f4-860962a8db09",
   "metadata": {},
   "outputs": [],
   "source": [
    "mypretrainedname = 'mobilevit_xxs' #Put one of the model name listed in 7th cell"
   ]
  },
  {
   "cell_type": "code",
   "execution_count": 9,
   "id": "c80e4a36-72f7-4a30-9ae4-9807a63e2650",
   "metadata": {},
   "outputs": [],
   "source": [
    "# Load pre-trained ViT model with specified dropout rate\n",
    "model = timm.create_model(mypretrainedname, pretrained=True, num_classes=num_classes, drop_rate=dropout_rate)\n",
    "model = model.to(device)"
   ]
  },
  {
   "cell_type": "code",
   "execution_count": 10,
   "id": "7208aaea-c3e1-4643-b7fe-be677aa27f00",
   "metadata": {},
   "outputs": [],
   "source": [
    "# Loss function and optimizer\n",
    "criterion = torch.nn.CrossEntropyLoss()\n",
    "optimizer = torch.optim.Adam(model.parameters(), lr=learning_rate)"
   ]
  },
  {
   "cell_type": "code",
   "execution_count": 11,
   "id": "fb4b6ea6-7f16-45d9-aed4-38c93df0e1f9",
   "metadata": {},
   "outputs": [
    {
     "name": "stdout",
     "output_type": "stream",
     "text": [
      "Custom dataset folder: dataset_ebs\n",
      "Number of classes: 2 with class names: ['goods', 'rejects']\n",
      "Preset dropout rate: 0.0\n",
      "Training/Testing Ratio: 491/211\n",
      "Learning rate: 0.0001\n"
     ]
    }
   ],
   "source": [
    "# Summary info before training loop\n",
    "print(f\"Custom dataset folder: {dataset_path}\")\n",
    "print(f\"Number of classes: {num_classes} with class names: {class_names}\")\n",
    "print(f\"Preset dropout rate: {dropout_rate}\")\n",
    "print(f\"Training/Testing Ratio: {train_size}/{val_size}\")\n",
    "print(f\"Learning rate: {learning_rate}\")"
   ]
  },
  {
   "cell_type": "code",
   "execution_count": 12,
   "id": "44b1ed7a-7581-4c36-b2c0-ac372a606c90",
   "metadata": {},
   "outputs": [],
   "source": [
    "# Training and validation\n",
    "train_acc_history, val_acc_history = [], []\n",
    "train_loss_history, val_loss_history = [], []"
   ]
  },
  {
   "cell_type": "code",
   "execution_count": 13,
   "id": "e267cb1b-fa1b-406f-8acc-cfbffe579444",
   "metadata": {},
   "outputs": [
    {
     "name": "stdout",
     "output_type": "stream",
     "text": [
      "Epoch 1/10.. Train loss: 0.6583.. Train accuracy: 0.8391.. Val loss: 0.6222.. Val accuracy: 0.7725\n",
      "Epoch 2/10.. Train loss: 0.5434.. Train accuracy: 0.9878.. Val loss: 0.5119.. Val accuracy: 0.9336\n",
      "Epoch 3/10.. Train loss: 0.4062.. Train accuracy: 0.9939.. Val loss: 0.3219.. Val accuracy: 1.0000\n",
      "Epoch 4/10.. Train loss: 0.3046.. Train accuracy: 0.9878.. Val loss: 0.2247.. Val accuracy: 1.0000\n",
      "Epoch 5/10.. Train loss: 0.2336.. Train accuracy: 0.9898.. Val loss: 0.2459.. Val accuracy: 0.9431\n",
      "Epoch 6/10.. Train loss: 0.1820.. Train accuracy: 0.9919.. Val loss: 0.1265.. Val accuracy: 1.0000\n",
      "Epoch 7/10.. Train loss: 0.1364.. Train accuracy: 0.9980.. Val loss: 0.1050.. Val accuracy: 1.0000\n",
      "Epoch 8/10.. Train loss: 0.1115.. Train accuracy: 0.9959.. Val loss: 0.1002.. Val accuracy: 1.0000\n",
      "Epoch 9/10.. Train loss: 0.0860.. Train accuracy: 1.0000.. Val loss: 0.0659.. Val accuracy: 1.0000\n",
      "Epoch 10/10.. Train loss: 0.0794.. Train accuracy: 0.9959.. Val loss: 0.0524.. Val accuracy: 1.0000\n"
     ]
    }
   ],
   "source": [
    "for epoch in range(num_epochs):\n",
    "    # Training\n",
    "    model.train()\n",
    "    train_loss, train_correct = 0.0, 0\n",
    "    for inputs, labels in train_loader:\n",
    "        inputs, labels = inputs.to(device), labels.to(device)\n",
    "        optimizer.zero_grad()\n",
    "        outputs = model(inputs)\n",
    "        loss = criterion(outputs, labels)\n",
    "        loss.backward()\n",
    "        optimizer.step()\n",
    "        train_loss += loss.item() * inputs.size(0)\n",
    "        _, predictions = torch.max(outputs, 1)\n",
    "        train_correct += torch.sum(predictions == labels.data)\n",
    "    \n",
    "    # Validation\n",
    "    model.eval()\n",
    "    val_loss, val_correct = 0.0, 0\n",
    "    with torch.no_grad():\n",
    "        for inputs, labels in val_loader:\n",
    "            inputs, labels = inputs.to(device), labels.to(device)\n",
    "            outputs = model(inputs)\n",
    "            loss = criterion(outputs, labels)\n",
    "            val_loss += loss.item() * inputs.size(0)\n",
    "            _, predictions = torch.max(outputs, 1)\n",
    "            val_correct += torch.sum(predictions == labels.data)\n",
    "    \n",
    "    # Calculate average losses and accuracy\n",
    "    train_loss = train_loss / train_size\n",
    "    train_acc = train_correct.double() / train_size\n",
    "    val_loss = val_loss / val_size\n",
    "    val_acc = val_correct.double() / val_size\n",
    "\n",
    "    # Save history for plotting\n",
    "    train_acc_history.append(train_acc.cpu().numpy())\n",
    "    train_loss_history.append(train_loss)\n",
    "    val_acc_history.append(val_acc.cpu().numpy())\n",
    "    val_loss_history.append(val_loss)\n",
    "\n",
    "    # Print results every epoch\n",
    "    print(f\"Epoch {epoch+1}/{num_epochs}.. \"\n",
    "          f\"Train loss: {train_loss:.4f}.. \"\n",
    "          f\"Train accuracy: {train_acc:.4f}.. \"\n",
    "          f\"Val loss: {val_loss:.4f}.. \"\n",
    "          f\"Val accuracy: {val_acc:.4f}\")"
   ]
  },
  {
   "cell_type": "code",
   "execution_count": 14,
   "id": "05ca6d66-bce0-409b-9ef5-71af7337f8b5",
   "metadata": {},
   "outputs": [
    {
     "data": {
      "image/png": "[encoded data removed]",
      "text/plain": [
       "<Figure size 1200x400 with 2 Axes>"
      ]
     },
     "metadata": {},
     "output_type": "display_data"
    }
   ],
   "source": [
    "# Plot trend chart for Accuracy and Loss\n",
    "plt.figure(figsize=(12, 4))\n",
    "plt.subplot(1, 2, 1)\n",
    "plt.plot(train_acc_history, label='Training Accuracy')\n",
    "plt.plot(val_acc_history, label='Validation Accuracy')\n",
    "plt.legend(loc='lower right')\n",
    "plt.title('Training and Validation Accuracy')\n",
    "plt.subplot(1, 2, 2)\n",
    "plt.plot(train_loss_history, label='Training Loss')\n",
    "plt.plot(val_loss_history, label='Validation Loss')\n",
    "plt.legend(loc='upper right')\n",
    "plt.title('Training and Validation Loss')\n",
    "plt.show()"
   ]
  },
  {
   "cell_type": "code",
   "execution_count": 15,
   "id": "99813ee7-49c4-4a22-abbd-b9dd40c3d4e2",
   "metadata": {},
   "outputs": [
    {
     "name": "stdout",
     "output_type": "stream",
     "text": [
      "Model saved to dataset_ebs\\mobilevit_xs.pth\n"
     ]
    }
   ],
   "source": [
    "# Save the model\n",
    "timestamp = datetime.now().strftime('%Y%m%d_%H%M%S')\n",
    "model_save_path = os.path.join(dataset_path, f'model_{timestamp}.pth')\n",
    "torch.save(model.state_dict(), model_save_path)\n",
    "model_save_path = os.path.join(dataset_path, f'mobilevit_xs.pth')\n",
    "torch.save(model.state_dict(), model_save_path)\n",
    "print(f\"Model saved to {model_save_path}\")"
   ]
  },
  {
   "cell_type": "code",
   "execution_count": 16,
   "id": "b0221256-4d67-48f2-aa02-8e23dd836301",
   "metadata": {},
   "outputs": [],
   "source": [
    "# Predict Function\n",
    "def predict_image(image_path, model, device, transform, class_names):\n",
    "    image = Image.open(image_path).convert('RGB')\n",
    "    inputs = transform(image).unsqueeze(0).to(device)\n",
    "    model.eval()\n",
    "    with torch.no_grad():\n",
    "        outputs = model(inputs)\n",
    "        _, predicted = torch.max(outputs, 1)\n",
    "        confidence = torch.nn.functional.softmax(outputs, dim=1)[0] * 100\n",
    "    _, predicted_confidence = torch.max(confidence, 0)\n",
    "    \n",
    "    plt.imshow(image)\n",
    "    plt.title(f\"{class_names[predicted]} ({confidence[predicted].item():.2f}%)\") #({confidence[predicted]:.2f}%)\n",
    "    plt.show()"
   ]
  },
  {
   "cell_type": "code",
   "execution_count": 17,
   "id": "493962e2-1fc6-4aa6-9405-3d044164a848",
   "metadata": {},
   "outputs": [
    {
     "data": {
      "text/plain": [
       "<All keys matched successfully>"
      ]
     },
     "execution_count": 17,
     "metadata": {},
     "output_type": "execute_result"
    }
   ],
   "source": [
    "# Load the model weights \n",
    "filename = model_save_path\n",
    "#filename = dataset_path + \"/\" + \"model_20231220_105848.pth\"\n",
    "\n",
    "loaded_weights = torch.load(filename)\n",
    "\n",
    "# load the weights \n",
    "model.load_state_dict(loaded_weights)"
   ]
  },
  {
   "cell_type": "code",
   "execution_count": 20,
   "id": "6884634f-6ed1-4cb7-9036-bdbbafbc2bce",
   "metadata": {},
   "outputs": [
    {
     "name": "stdout",
     "output_type": "stream",
     "text": [
      "No images matched the class 'rejects' with confidence >= 80.0%.\n",
      "\n",
      "Summary of Predictions (All Classes):\n",
      "Class: goods - Total Predictions: 468 (100.00%)\n",
      "Class: rejects - Total Predictions: 0 (0.00%)\n"
     ]
    }
   ],
   "source": [
    "# Predict Function\n",
    "def predict_image(image_path, model, device, transform, class_names):\n",
    "    image = Image.open(image_path).convert('RGB')\n",
    "    inputs = transform(image).unsqueeze(0).to(device)\n",
    "    model.eval()\n",
    "    with torch.no_grad():\n",
    "        outputs = model(inputs)\n",
    "        _, predicted = torch.max(outputs, 1)\n",
    "        confidence = torch.nn.functional.softmax(outputs, dim=1)[0] * 100\n",
    "    predicted_class = predicted.item()\n",
    "    predicted_confidence = confidence[predicted_class].item()\n",
    "\n",
    "    return predicted_class, predicted_confidence, image\n",
    "\n",
    "# Predict Images in a Specific Folder and Display Based on Conditions\n",
    "def predict_images_in_folder(folder_path, model, device, transform, class_names, target_class, confidence_threshold):\n",
    "    image_files = [f for f in os.listdir(folder_path) if f.endswith(('jpg', 'jpeg', 'png'))]\n",
    "    total_images = len(image_files)\n",
    "    \n",
    "    # Initialize counters for each class\n",
    "    class_count = {class_name: 0 for class_name in class_names}\n",
    "    predictions = []\n",
    "\n",
    "    for image_file in image_files:\n",
    "        image_path = os.path.join(folder_path, image_file)\n",
    "        predicted_class, predicted_confidence, image = predict_image(image_path, model, device, transform, class_names)\n",
    "\n",
    "        # Increment the count for the predicted class\n",
    "        class_count[class_names[predicted_class]] += 1\n",
    "\n",
    "        # Check if prediction matches the target class and exceeds confidence threshold\n",
    "        if predicted_class == target_class and predicted_confidence >= confidence_threshold:\n",
    "            # Display the image only when conditions are met\n",
    "            plt.imshow(image)\n",
    "            plt.title(f\"{class_names[predicted_class]} ({predicted_confidence:.2f}%)\")\n",
    "            plt.axis('off')\n",
    "            plt.show()\n",
    "\n",
    "            # Store the result for summary\n",
    "            predictions.append((image_file, class_names[predicted_class], predicted_confidence))\n",
    "\n",
    "    # Summary of predictions for the target class\n",
    "    if predictions:\n",
    "        print(\"\\nSummary of Predictions (Target Class):\")\n",
    "        for image_file, predicted_class, predicted_confidence in predictions:\n",
    "            print(f\"Image: {image_file} --> Predicted: {predicted_class} ({predicted_confidence:.2f}%)\")\n",
    "    else:\n",
    "        print(f\"No images matched the class '{class_names[target_class]}' with confidence >= {confidence_threshold}%.\")\n",
    "\n",
    "    # Summary of predictions for all classes\n",
    "    print(\"\\nSummary of Predictions (All Classes):\")\n",
    "    for class_name, count in class_count.items():\n",
    "        percentage = (count / total_images) * 100 if total_images > 0 else 0\n",
    "        print(f\"Class: {class_name} - Total Predictions: {count} ({percentage:.2f}%)\")\n",
    "\n",
    "# Example usage\n",
    "folder_path = r\"dataset_ebs\\goods\"\n",
    "target_class = 1  # Index of the class you want to filter by (e.g., 0 for the first class)\n",
    "confidence_threshold = 80.0  # Minimum confidence level to display the image\n",
    "predict_images_in_folder(folder_path, model, device, transform, class_names, target_class, confidence_threshold)"
   ]
  },
  {
   "cell_type": "code",
   "execution_count": null,
   "id": "9e4f9327-c160-46fc-86ce-cfdb20303f1c",
   "metadata": {},
   "outputs": [],
   "source": []
  }
 ],
 "metadata": {
  "kernelspec": {
   "display_name": "Python 3 (ipykernel)",
   "language": "python",
   "name": "python3"
  },
  "language_info": {
   "codemirror_mode": {
    "name": "ipython",
    "version": 3
   },
   "file_extension": ".py",
   "mimetype": "text/x-python",
   "name": "python",
   "nbconvert_exporter": "python",
   "pygments_lexer": "ipython3",
   "version": "3.8.18"
  }
 },
 "nbformat": 4,
 "nbformat_minor": 5
}
