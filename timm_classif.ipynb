{
 "cells": [
  {
   "cell_type": "code",
   "execution_count": null,
   "id": "ef58f141-4122-4d78-b65e-9d7d06817682",
   "metadata": {},
   "outputs": [],
   "source": [
    "import os\n",
    "import time\n",
    "import torch\n",
    "import timm\n",
    "import numpy as np\n",
    "import matplotlib.pyplot as plt\n",
    "from torchvision import datasets, transforms\n",
    "from torch.utils.data import DataLoader, random_split\n",
    "from sklearn.model_selection import train_test_split\n",
    "from datetime import datetime\n",
    "from PIL import Image"
   ]
  },
  {
   "cell_type": "code",
   "execution_count": null,
   "id": "8f1ee3b9-67a6-442e-806a-a9057064da54",
   "metadata": {},
   "outputs": [],
   "source": [
    "# Set device\n",
    "device = torch.device(\"cuda\" if torch.cuda.is_available() else \"cpu\")\n",
    "device\n",
    "\n",
    "# Custom dataset folder\n",
    "dataset_path = 'F:/vit_custom_img_classif/key_desc_org'  # Update this path\n",
    "#dataset_path = 'dataset_ebs'"
   ]
  },
  {
   "cell_type": "code",
   "execution_count": null,
   "id": "b7346cb7-43d4-425c-8d87-7a13585dcdf9",
   "metadata": {},
   "outputs": [],
   "source": [
    "# Preset values\n",
    "dropout_rate = 0.00\n",
    "batch_size = 32\n",
    "learning_rate = 1e-4\n",
    "num_epochs = 40\n",
    "image_size = 224"
   ]
  },
  {
   "cell_type": "code",
   "execution_count": null,
   "id": "80cc39cd-5f4c-4fb0-acef-59659ce4867e",
   "metadata": {},
   "outputs": [],
   "source": [
    "# Data augmentation and normalization for training\n",
    "transform = transforms.Compose([\n",
    "    transforms.Resize((image_size, image_size)),\n",
    "    transforms.RandomHorizontalFlip(),\n",
    "    #transforms.RandomRotation(degrees=(0, 360)),\n",
    "    transforms.ColorJitter(brightness=0.5, contrast=0.5, saturation=0.5, hue=0.5),\n",
    "    #transforms.RandomResizedCrop(size=image_size),\n",
    "    #transforms.RandomPerspective(distortion_scale=0.5, probability=0.5),\n",
    "    transforms.RandomVerticalFlip(),\n",
    "    #transforms.GaussianBlur(kernel_size=(5, 9), sigma=(0.1, 5)),\n",
    "    transforms.ToTensor(),\n",
    "    transforms.Normalize(mean=[0.485, 0.456, 0.406], std=[0.229, 0.224, 0.225]),\n",
    "    transforms.RandomErasing(p=0.5),\n",
    "])"
   ]
  },
  {
   "cell_type": "code",
   "execution_count": null,
   "id": "77f1d768-2bc6-4af1-9937-fd2332939ebb",
   "metadata": {},
   "outputs": [],
   "source": [
    "\n",
    "# Load custom dataset\n",
    "dataset = datasets.ImageFolder(dataset_path, transform=transform)\n",
    "class_names = dataset.classes\n",
    "num_classes = len(class_names)"
   ]
  },
  {
   "cell_type": "code",
   "execution_count": null,
   "id": "03e6ddb5-5cd5-4707-968d-7bd1689f1018",
   "metadata": {},
   "outputs": [],
   "source": [
    "# Split dataset into training and validation sets\n",
    "train_size = int(0.7 * len(dataset))\n",
    "val_size = len(dataset) - train_size\n",
    "train_dataset, val_dataset = random_split(dataset, [train_size, val_size])"
   ]
  },
  {
   "cell_type": "code",
   "execution_count": null,
   "id": "ea711ecf-5d86-4cb9-abaf-ec7283253ddb",
   "metadata": {},
   "outputs": [],
   "source": [
    "# Create data loaders\n",
    "train_loader = DataLoader(train_dataset, batch_size=batch_size, shuffle=True)\n",
    "val_loader = DataLoader(val_dataset, batch_size=batch_size)"
   ]
  },
  {
   "cell_type": "code",
   "execution_count": null,
   "id": "3fda9f83-306e-45ad-9d7f-89ed8b7b55ad",
   "metadata": {},
   "outputs": [],
   "source": [
    "# List of Vit Models with Pretrained Weight\n",
    "all_models = timm.list_models('*')\n",
    "all_models"
   ]
  },
  {
   "cell_type": "code",
   "execution_count": null,
   "id": "eb192149-94dd-414f-90f4-860962a8db09",
   "metadata": {},
   "outputs": [],
   "source": [
    "mypretrainedname = 'levit_128' #Put one of the model name listed in 7th cell"
   ]
  },
  {
   "cell_type": "code",
   "execution_count": null,
   "id": "c80e4a36-72f7-4a30-9ae4-9807a63e2650",
   "metadata": {},
   "outputs": [],
   "source": [
    "# Load pre-trained ViT model with specified dropout rate\n",
    "model = timm.create_model(mypretrainedname, pretrained=True, num_classes=num_classes, drop_rate=dropout_rate)\n",
    "model = model.to(device)"
   ]
  },
  {
   "cell_type": "code",
   "execution_count": null,
   "id": "7208aaea-c3e1-4643-b7fe-be677aa27f00",
   "metadata": {},
   "outputs": [],
   "source": [
    "# Loss function and optimizer\n",
    "criterion = torch.nn.CrossEntropyLoss()\n",
    "optimizer = torch.optim.Adam(model.parameters(), lr=learning_rate)"
   ]
  },
  {
   "cell_type": "code",
   "execution_count": null,
   "id": "fb4b6ea6-7f16-45d9-aed4-38c93df0e1f9",
   "metadata": {},
   "outputs": [],
   "source": [
    "# Summary info before training loop\n",
    "print(f\"Custom dataset folder: {dataset_path}\")\n",
    "print(f\"Number of classes: {num_classes} with class names: {class_names}\")\n",
    "print(f\"Preset dropout rate: {dropout_rate}\")\n",
    "print(f\"Training/Testing Ratio: {train_size}/{val_size}\")\n",
    "print(f\"Learning rate: {learning_rate}\")"
   ]
  },
  {
   "cell_type": "code",
   "execution_count": null,
   "id": "44b1ed7a-7581-4c36-b2c0-ac372a606c90",
   "metadata": {},
   "outputs": [],
   "source": [
    "# Training and validation"
   ]
  },
  {
   "cell_type": "code",
   "execution_count": null,
   "id": "0f92c2bc-495b-46e5-8ac1-983c2a0e14a4",
   "metadata": {},
   "outputs": [],
   "source": [
    "train_acc_history, val_acc_history = [], []\n",
    "train_loss_history, val_loss_history = [], []\n",
    "\n",
    "start_time = time.time()  # Start time of the training\n",
    "\n",
    "for epoch in range(num_epochs):\n",
    "    epoch_start_time = time.time()  # Start time of the current epoch\n",
    "\n",
    "    # [Your existing training and validation code goes here]\n",
    "\n",
    "    # Calculate average losses and accuracy\n",
    "    # [Your existing code for calculating and storing training/validation losses and accuracies]\n",
    "    # Training\n",
    "    model.train()\n",
    "    train_loss, train_correct = 0.0, 0\n",
    "    for inputs, labels in train_loader:\n",
    "        inputs, labels = inputs.to(device), labels.to(device)\n",
    "        optimizer.zero_grad()\n",
    "        outputs = model(inputs)\n",
    "        loss = criterion(outputs, labels)\n",
    "        loss.backward()\n",
    "        optimizer.step()\n",
    "        train_loss += loss.item() * inputs.size(0)\n",
    "        _, predictions = torch.max(outputs, 1)\n",
    "        train_correct += torch.sum(predictions == labels.data)\n",
    "    \n",
    "    # Validation\n",
    "    model.eval()\n",
    "    val_loss, val_correct = 0.0, 0\n",
    "    with torch.no_grad():\n",
    "        for inputs, labels in val_loader:\n",
    "            inputs, labels = inputs.to(device), labels.to(device)\n",
    "            outputs = model(inputs)\n",
    "            loss = criterion(outputs, labels)\n",
    "            val_loss += loss.item() * inputs.size(0)\n",
    "            _, predictions = torch.max(outputs, 1)\n",
    "            val_correct += torch.sum(predictions == labels.data)\n",
    "    \n",
    "    # Calculate average losses and accuracy\n",
    "    train_loss = train_loss / train_size\n",
    "    train_acc = train_correct.double() / train_size\n",
    "    val_loss = val_loss / val_size\n",
    "    val_acc = val_correct.double() / val_size\n",
    "\n",
    "    # Save history for plotting\n",
    "    train_acc_history.append(train_acc.cpu().numpy())\n",
    "    train_loss_history.append(train_loss)\n",
    "    val_acc_history.append(val_acc.cpu().numpy())\n",
    "    val_loss_history.append(val_loss)\n",
    "\n",
    "    \n",
    "    epoch_time = time.time() - epoch_start_time  # Time taken for the current epoch\n",
    "    total_time = time.time() - start_time  # Total time elapsed since the start of training\n",
    "    avg_time_per_epoch = total_time / (epoch + 1)  # Average time per epoch\n",
    "    remaining_epochs = num_epochs - epoch - 1\n",
    "    estimated_remaining_time = avg_time_per_epoch * remaining_epochs\n",
    "\n",
    "    # Convert estimated remaining time from seconds to minutes\n",
    "    estimated_remaining_time_min = estimated_remaining_time / 60\n",
    "\n",
    "    # Print results every epoch with estimated remaining time\n",
    "    print(f\"Epoch {epoch+1}/{num_epochs}.. \"\n",
    "          f\"Train loss: {train_loss:.4f}.. \"\n",
    "          f\"Train accuracy: {train_acc:.4f}.. \"\n",
    "          f\"Val loss: {val_loss:.4f}.. \"\n",
    "          f\"Val accuracy: {val_acc:.4f}.. \"\n",
    "          f\"Remaining time: {estimated_remaining_time_min:.2f} minutes\")\n"
   ]
  },
  {
   "cell_type": "code",
   "execution_count": null,
   "id": "05ca6d66-bce0-409b-9ef5-71af7337f8b5",
   "metadata": {},
   "outputs": [],
   "source": [
    "# Plot trend chart for Accuracy and Loss\n",
    "plt.figure(figsize=(12, 4))\n",
    "plt.subplot(1, 2, 1)\n",
    "plt.plot(train_acc_history, label='Training Accuracy')\n",
    "plt.plot(val_acc_history, label='Validation Accuracy')\n",
    "plt.legend(loc='lower right')\n",
    "plt.title('Training and Validation Accuracy')\n",
    "plt.subplot(1, 2, 2)\n",
    "plt.plot(train_loss_history, label='Training Loss')\n",
    "plt.plot(val_loss_history, label='Validation Loss')\n",
    "plt.legend(loc='upper right')\n",
    "plt.title('Training and Validation Loss')\n",
    "plt.show()"
   ]
  },
  {
   "cell_type": "code",
   "execution_count": null,
   "id": "99813ee7-49c4-4a22-abbd-b9dd40c3d4e2",
   "metadata": {},
   "outputs": [],
   "source": [
    "# Save the model\n",
    "timestamp = datetime.now().strftime('%Y%m%d_%H%M%S')\n",
    "model_save_path = os.path.join(dataset_path, f'model_{timestamp}.pth')\n",
    "torch.save(model.state_dict(), model_save_path)\n",
    "print(f\"Model saved to {model_save_path}\")"
   ]
  },
  {
   "cell_type": "code",
   "execution_count": null,
   "id": "b0221256-4d67-48f2-aa02-8e23dd836301",
   "metadata": {},
   "outputs": [],
   "source": [
    "# Predict Function\n",
    "def predict_image(image_path, model, device, transform, class_names):\n",
    "    image = Image.open(image_path).convert('RGB')\n",
    "    inputs = transform(image).unsqueeze(0).to(device)\n",
    "    model.eval()\n",
    "    with torch.no_grad():\n",
    "        outputs = model(inputs)\n",
    "        _, predicted = torch.max(outputs, 1)\n",
    "        confidence = torch.nn.functional.softmax(outputs, dim=1)[0] * 100\n",
    "    _, predicted_confidence = torch.max(confidence, 0)\n",
    "    \n",
    "    plt.imshow(image)\n",
    "    plt.title(f\"{class_names[predicted]} ({confidence[predicted].item():.2f}%)\") #({confidence[predicted]:.2f}%)\n",
    "    plt.show()"
   ]
  },
  {
   "cell_type": "code",
   "execution_count": null,
   "id": "493962e2-1fc6-4aa6-9405-3d044164a848",
   "metadata": {},
   "outputs": [],
   "source": [
    "# Load the model weights \n",
    "filename = model_save_path\n",
    "#filename = dataset_path + \"/\" + \"model_20231220_105848.pth\"\n",
    "\n",
    "loaded_weights = torch.load(filename)\n",
    "\n",
    "# load the weights \n",
    "model.load_state_dict(loaded_weights)"
   ]
  },
  {
   "cell_type": "code",
   "execution_count": null,
   "id": "82be2218-fb19-4ed8-9d43-f2c16b383513",
   "metadata": {},
   "outputs": [],
   "source": [
    "# Predict a Specific Image\n",
    "image_path = \"P2-034.jpg\"\n",
    "predict_image(image_path, model, device, transform, class_names)\n",
    "image_path = \"R-019.jpg\"\n",
    "predict_image(image_path, model, device, transform, class_names)"
   ]
  },
  {
   "cell_type": "code",
   "execution_count": null,
   "id": "3d009545-4963-4176-aeac-87beb7abb847",
   "metadata": {},
   "outputs": [],
   "source": []
  },
  {
   "cell_type": "code",
   "execution_count": null,
   "id": "77882b42-6512-4037-a5c6-934f6ba51202",
   "metadata": {},
   "outputs": [],
   "source": []
  }
 ],
 "metadata": {
  "kernelspec": {
   "display_name": "Python 3 (ipykernel)",
   "language": "python",
   "name": "python3"
  },
  "language_info": {
   "codemirror_mode": {
    "name": "ipython",
    "version": 3
   },
   "file_extension": ".py",
   "mimetype": "text/x-python",
   "name": "python",
   "nbconvert_exporter": "python",
   "pygments_lexer": "ipython3",
   "version": "3.8.18"
  }
 },
 "nbformat": 4,
 "nbformat_minor": 5
}
