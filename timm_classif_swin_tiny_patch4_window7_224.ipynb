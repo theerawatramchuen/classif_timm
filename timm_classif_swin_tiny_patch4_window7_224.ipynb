{
 "cells": [
  {
   "cell_type": "code",
   "execution_count": 1,
   "id": "ef58f141-4122-4d78-b65e-9d7d06817682",
   "metadata": {},
   "outputs": [],
   "source": [
    "import os\n",
    "import time\n",
    "import torch\n",
    "import timm\n",
    "import numpy as np\n",
    "import matplotlib.pyplot as plt\n",
    "from torchvision import datasets, transforms\n",
    "from torch.utils.data import DataLoader, random_split\n",
    "from sklearn.model_selection import train_test_split\n",
    "from datetime import datetime\n",
    "from PIL import Image"
   ]
  },
  {
   "cell_type": "code",
   "execution_count": 2,
   "id": "8f1ee3b9-67a6-442e-806a-a9057064da54",
   "metadata": {},
   "outputs": [],
   "source": [
    "# Set device\n",
    "device = torch.device(\"cuda\" if torch.cuda.is_available() else \"cpu\")\n",
    "device\n",
    "\n",
    "# Custom dataset folder\n",
    "#dataset_path = 'F:/vit_custom_img_classif/key_desc_org'  # Update this path\n",
    "dataset_path = 'dataset_ebs'"
   ]
  },
  {
   "cell_type": "code",
   "execution_count": 3,
   "id": "b7346cb7-43d4-425c-8d87-7a13585dcdf9",
   "metadata": {},
   "outputs": [],
   "source": [
    "# Preset values\n",
    "dropout_rate = 0.00\n",
    "batch_size = 32\n",
    "learning_rate = 1e-4\n",
    "num_epochs = 10\n",
    "image_size = 224"
   ]
  },
  {
   "cell_type": "code",
   "execution_count": 4,
   "id": "80cc39cd-5f4c-4fb0-acef-59659ce4867e",
   "metadata": {},
   "outputs": [],
   "source": [
    "# Data augmentation and normalization for training\n",
    "transform = transforms.Compose([\n",
    "    transforms.Resize((image_size, image_size)),\n",
    "    #transforms.RandomHorizontalFlip(),\n",
    "    #transforms.RandomRotation(degrees=(0, 360)),\n",
    "    #transforms.ColorJitter(brightness=0.5, contrast=0.5, saturation=0.5, hue=0.5),\n",
    "    #transforms.RandomResizedCrop(size=image_size),\n",
    "    #transforms.RandomPerspective(distortion_scale=0.5, probability=0.5),\n",
    "    #transforms.RandomVerticalFlip(),\n",
    "    #transforms.GaussianBlur(kernel_size=(5, 9), sigma=(0.1, 5)),\n",
    "    transforms.ToTensor(),\n",
    "    transforms.Normalize(mean=[0.485, 0.456, 0.406], std=[0.229, 0.224, 0.225]),\n",
    "    transforms.RandomErasing(p=0.0),\n",
    "])"
   ]
  },
  {
   "cell_type": "code",
   "execution_count": 5,
   "id": "77f1d768-2bc6-4af1-9937-fd2332939ebb",
   "metadata": {},
   "outputs": [],
   "source": [
    "# Load custom dataset\n",
    "dataset = datasets.ImageFolder(dataset_path, transform=transform)\n",
    "class_names = dataset.classes\n",
    "num_classes = len(class_names)"
   ]
  },
  {
   "cell_type": "code",
   "execution_count": 6,
   "id": "03e6ddb5-5cd5-4707-968d-7bd1689f1018",
   "metadata": {},
   "outputs": [],
   "source": [
    "# Split dataset into training and validation sets\n",
    "train_size = int(0.7 * len(dataset))\n",
    "val_size = len(dataset) - train_size\n",
    "train_dataset, val_dataset = random_split(dataset, [train_size, val_size])"
   ]
  },
  {
   "cell_type": "code",
   "execution_count": 7,
   "id": "ea711ecf-5d86-4cb9-abaf-ec7283253ddb",
   "metadata": {},
   "outputs": [],
   "source": [
    "# Create data loaders\n",
    "train_loader = DataLoader(train_dataset, batch_size=batch_size, shuffle=True)\n",
    "val_loader = DataLoader(val_dataset, batch_size=batch_size)"
   ]
  },
  {
   "cell_type": "code",
   "execution_count": 8,
   "id": "3fda9f83-306e-45ad-9d7f-89ed8b7b55ad",
   "metadata": {},
   "outputs": [
    {
     "data": {
      "text/plain": [
       "['swin_base_patch4_window7_224',\n",
       " 'swin_base_patch4_window12_384',\n",
       " 'swin_large_patch4_window7_224',\n",
       " 'swin_large_patch4_window12_384',\n",
       " 'swin_s3_base_224',\n",
       " 'swin_s3_small_224',\n",
       " 'swin_s3_tiny_224',\n",
       " 'swin_small_patch4_window7_224',\n",
       " 'swin_tiny_patch4_window7_224',\n",
       " 'swinv2_base_window8_256',\n",
       " 'swinv2_base_window12_192',\n",
       " 'swinv2_base_window12to16_192to256',\n",
       " 'swinv2_base_window12to24_192to384',\n",
       " 'swinv2_base_window16_256',\n",
       " 'swinv2_cr_base_224',\n",
       " 'swinv2_cr_base_384',\n",
       " 'swinv2_cr_base_ns_224',\n",
       " 'swinv2_cr_giant_224',\n",
       " 'swinv2_cr_giant_384',\n",
       " 'swinv2_cr_huge_224',\n",
       " 'swinv2_cr_huge_384',\n",
       " 'swinv2_cr_large_224',\n",
       " 'swinv2_cr_large_384',\n",
       " 'swinv2_cr_small_224',\n",
       " 'swinv2_cr_small_384',\n",
       " 'swinv2_cr_small_ns_224',\n",
       " 'swinv2_cr_small_ns_256',\n",
       " 'swinv2_cr_tiny_224',\n",
       " 'swinv2_cr_tiny_384',\n",
       " 'swinv2_cr_tiny_ns_224',\n",
       " 'swinv2_large_window12_192',\n",
       " 'swinv2_large_window12to16_192to256',\n",
       " 'swinv2_large_window12to24_192to384',\n",
       " 'swinv2_small_window8_256',\n",
       " 'swinv2_small_window16_256',\n",
       " 'swinv2_tiny_window8_256',\n",
       " 'swinv2_tiny_window16_256']"
      ]
     },
     "execution_count": 8,
     "metadata": {},
     "output_type": "execute_result"
    }
   ],
   "source": [
    "# List of Vit Models with Pretrained Weight\n",
    "all_models = timm.list_models('swin*')\n",
    "all_models"
   ]
  },
  {
   "cell_type": "code",
   "execution_count": 9,
   "id": "eb192149-94dd-414f-90f4-860962a8db09",
   "metadata": {},
   "outputs": [],
   "source": [
    "mypretrainedname = 'swin_tiny_patch4_window7_224' #Put one of the model name listed in previous cell"
   ]
  },
  {
   "cell_type": "code",
   "execution_count": 10,
   "id": "c80e4a36-72f7-4a30-9ae4-9807a63e2650",
   "metadata": {},
   "outputs": [
    {
     "name": "stderr",
     "output_type": "stream",
     "text": [
      "C:\\Users\\User\\miniconda3\\envs\\vit\\lib\\site-packages\\torch\\functional.py:504: UserWarning: torch.meshgrid: in an upcoming release, it will be required to pass the indexing argument. (Triggered internally at C:\\actions-runner\\_work\\pytorch\\pytorch\\builder\\windows\\pytorch\\aten\\src\\ATen\\native\\TensorShape.cpp:3527.)\n",
      "  return _VF.meshgrid(tensors, **kwargs)  # type: ignore[attr-defined]\n"
     ]
    },
    {
     "data": {
      "application/vnd.jupyter.widget-view+json": {
       "model_id": "fdddc507ba164742bc6535ac7cb8d51c",
       "version_major": 2,
       "version_minor": 0
      },
      "text/plain": [
       "model.safetensors:   0%|          | 0.00/114M [00:00<?, ?B/s]"
      ]
     },
     "metadata": {},
     "output_type": "display_data"
    },
    {
     "name": "stderr",
     "output_type": "stream",
     "text": [
      "C:\\Users\\User\\miniconda3\\envs\\vit\\lib\\site-packages\\huggingface_hub\\file_download.py:147: UserWarning: `huggingface_hub` cache-system uses symlinks by default to efficiently store duplicated files but your machine does not support them in C:\\Users\\User\\.cache\\huggingface\\hub. Caching files will still work but in a degraded version that might require more space on your disk. This warning can be disabled by setting the `HF_HUB_DISABLE_SYMLINKS_WARNING` environment variable. For more details, see https://huggingface.co/docs/huggingface_hub/how-to-cache#limitations.\n",
      "To support symlinks on Windows, you either need to activate Developer Mode or to run Python as an administrator. In order to see activate developer mode, see this article: https://docs.microsoft.com/en-us/windows/apps/get-started/enable-your-device-for-development\n",
      "  warnings.warn(message)\n"
     ]
    }
   ],
   "source": [
    "# Load pre-trained ViT model with specified dropout rate\n",
    "model = timm.create_model(mypretrainedname, pretrained=True, num_classes=num_classes, drop_rate=dropout_rate)\n",
    "model = model.to(device)"
   ]
  },
  {
   "cell_type": "code",
   "execution_count": 11,
   "id": "7208aaea-c3e1-4643-b7fe-be677aa27f00",
   "metadata": {},
   "outputs": [],
   "source": [
    "# Loss function and optimizer\n",
    "criterion = torch.nn.CrossEntropyLoss()\n",
    "optimizer = torch.optim.Adam(model.parameters(), lr=learning_rate)"
   ]
  },
  {
   "cell_type": "code",
   "execution_count": 12,
   "id": "fb4b6ea6-7f16-45d9-aed4-38c93df0e1f9",
   "metadata": {},
   "outputs": [
    {
     "name": "stdout",
     "output_type": "stream",
     "text": [
      "Custom dataset folder: dataset_ebs\n",
      "Number of classes: 2 with class names: ['goods', 'rejects']\n",
      "Preset dropout rate: 0.0\n",
      "Training/Testing Ratio: 491/211\n",
      "Learning rate: 0.0001\n"
     ]
    }
   ],
   "source": [
    "# Summary info before training loop\n",
    "print(f\"Custom dataset folder: {dataset_path}\")\n",
    "print(f\"Number of classes: {num_classes} with class names: {class_names}\")\n",
    "print(f\"Preset dropout rate: {dropout_rate}\")\n",
    "print(f\"Training/Testing Ratio: {train_size}/{val_size}\")\n",
    "print(f\"Learning rate: {learning_rate}\")"
   ]
  },
  {
   "cell_type": "code",
   "execution_count": 13,
   "id": "44b1ed7a-7581-4c36-b2c0-ac372a606c90",
   "metadata": {},
   "outputs": [],
   "source": [
    "# Training and validation\n",
    "train_acc_history, val_acc_history = [], []\n",
    "train_loss_history, val_loss_history = [], []"
   ]
  },
  {
   "cell_type": "code",
   "execution_count": 14,
   "id": "0f92c2bc-495b-46e5-8ac1-983c2a0e14a4",
   "metadata": {},
   "outputs": [
    {
     "name": "stdout",
     "output_type": "stream",
     "text": [
      "Epoch 1/10.. Train loss: 0.3696.. Train accuracy: 0.8228.. Val loss: 0.1911.. Val accuracy: 0.9147.. Remaining time: 19.79 minutes\n",
      "Epoch 2/10.. Train loss: 0.0441.. Train accuracy: 0.9857.. Val loss: 0.0259.. Val accuracy: 0.9905.. Remaining time: 18.00 minutes\n",
      "Epoch 3/10.. Train loss: 0.0052.. Train accuracy: 1.0000.. Val loss: 0.0108.. Val accuracy: 0.9953.. Remaining time: 16.05 minutes\n",
      "Epoch 4/10.. Train loss: 0.0004.. Train accuracy: 1.0000.. Val loss: 0.0161.. Val accuracy: 0.9953.. Remaining time: 13.82 minutes\n",
      "Epoch 5/10.. Train loss: 0.0044.. Train accuracy: 0.9980.. Val loss: 0.0094.. Val accuracy: 1.0000.. Remaining time: 11.60 minutes\n",
      "Epoch 6/10.. Train loss: 0.0421.. Train accuracy: 0.9796.. Val loss: 0.0064.. Val accuracy: 0.9953.. Remaining time: 9.27 minutes\n",
      "Epoch 7/10.. Train loss: 0.0084.. Train accuracy: 0.9980.. Val loss: 0.0086.. Val accuracy: 0.9953.. Remaining time: 6.99 minutes\n",
      "Epoch 8/10.. Train loss: 0.0003.. Train accuracy: 1.0000.. Val loss: 0.0001.. Val accuracy: 1.0000.. Remaining time: 4.67 minutes\n",
      "Epoch 9/10.. Train loss: 0.0004.. Train accuracy: 1.0000.. Val loss: 0.0001.. Val accuracy: 1.0000.. Remaining time: 2.35 minutes\n",
      "Epoch 10/10.. Train loss: 0.0001.. Train accuracy: 1.0000.. Val loss: 0.0002.. Val accuracy: 1.0000.. Remaining time: 0.00 minutes\n"
     ]
    }
   ],
   "source": [
    "# Continue training start here\n",
    "start_time = time.time()  # Start time of the training\n",
    "\n",
    "for epoch in range(num_epochs):\n",
    "    epoch_start_time = time.time()  # Start time of the current epoch\n",
    "\n",
    "    # [Your existing training and validation code goes here]\n",
    "\n",
    "    # Calculate average losses and accuracy\n",
    "    # [Your existing code for calculating and storing training/validation losses and accuracies]\n",
    "    # Training\n",
    "    model.train()\n",
    "    train_loss, train_correct = 0.0, 0\n",
    "    for inputs, labels in train_loader:\n",
    "        inputs, labels = inputs.to(device), labels.to(device)\n",
    "        optimizer.zero_grad()\n",
    "        outputs = model(inputs)\n",
    "        loss = criterion(outputs, labels)\n",
    "        loss.backward()\n",
    "        optimizer.step()\n",
    "        train_loss += loss.item() * inputs.size(0)\n",
    "        _, predictions = torch.max(outputs, 1)\n",
    "        train_correct += torch.sum(predictions == labels.data)\n",
    "    \n",
    "    # Validation\n",
    "    model.eval()\n",
    "    val_loss, val_correct = 0.0, 0\n",
    "    with torch.no_grad():\n",
    "        for inputs, labels in val_loader:\n",
    "            inputs, labels = inputs.to(device), labels.to(device)\n",
    "            outputs = model(inputs)\n",
    "            loss = criterion(outputs, labels)\n",
    "            val_loss += loss.item() * inputs.size(0)\n",
    "            _, predictions = torch.max(outputs, 1)\n",
    "            val_correct += torch.sum(predictions == labels.data)\n",
    "    \n",
    "    # Calculate average losses and accuracy\n",
    "    train_loss = train_loss / train_size\n",
    "    train_acc = train_correct.double() / train_size\n",
    "    val_loss = val_loss / val_size\n",
    "    val_acc = val_correct.double() / val_size\n",
    "\n",
    "    # Save history for plotting\n",
    "    train_acc_history.append(train_acc.cpu().numpy())\n",
    "    train_loss_history.append(train_loss)\n",
    "    val_acc_history.append(val_acc.cpu().numpy())\n",
    "    val_loss_history.append(val_loss)\n",
    "\n",
    "    \n",
    "    epoch_time = time.time() - epoch_start_time  # Time taken for the current epoch\n",
    "    total_time = time.time() - start_time  # Total time elapsed since the start of training\n",
    "    avg_time_per_epoch = total_time / (epoch + 1)  # Average time per epoch\n",
    "    remaining_epochs = num_epochs - epoch - 1\n",
    "    estimated_remaining_time = avg_time_per_epoch * remaining_epochs\n",
    "\n",
    "    # Convert estimated remaining time from seconds to minutes\n",
    "    estimated_remaining_time_min = estimated_remaining_time / 60\n",
    "\n",
    "    # Print results every epoch with estimated remaining time\n",
    "    print(f\"Epoch {epoch+1}/{num_epochs}.. \"\n",
    "          f\"Train loss: {train_loss:.4f}.. \"\n",
    "          f\"Train accuracy: {train_acc:.4f}.. \"\n",
    "          f\"Val loss: {val_loss:.4f}.. \"\n",
    "          f\"Val accuracy: {val_acc:.4f}.. \"\n",
    "          f\"Remaining time: {estimated_remaining_time_min:.2f} minutes\")"
   ]
  },
  {
   "cell_type": "code",
   "execution_count": 15,
   "id": "05ca6d66-bce0-409b-9ef5-71af7337f8b5",
   "metadata": {},
   "outputs": [
    {
     "data": {
      "image/png": "[encoded data removed]",
      "text/plain": [
       "<Figure size 1200x400 with 2 Axes>"
      ]
     },
     "metadata": {},
     "output_type": "display_data"
    }
   ],
   "source": [
    "# Plot trend chart for Accuracy and Loss\n",
    "plt.figure(figsize=(12, 4))\n",
    "plt.subplot(1, 2, 1)\n",
    "plt.plot(train_acc_history, label='Training Accuracy')\n",
    "plt.plot(val_acc_history, label='Validation Accuracy')\n",
    "plt.legend(loc='lower right')\n",
    "plt.title('Training and Validation Accuracy')\n",
    "plt.subplot(1, 2, 2)\n",
    "plt.plot(train_loss_history, label='Training Loss')\n",
    "plt.plot(val_loss_history, label='Validation Loss')\n",
    "plt.legend(loc='upper right')\n",
    "plt.title('Training and Validation Loss')\n",
    "plt.show()"
   ]
  },
  {
   "cell_type": "code",
   "execution_count": 16,
   "id": "99813ee7-49c4-4a22-abbd-b9dd40c3d4e2",
   "metadata": {},
   "outputs": [
    {
     "name": "stdout",
     "output_type": "stream",
     "text": [
      "Model saved to dataset_ebs\\swin_tiny_patch4_window7_224_20240109_124601.pth\n"
     ]
    }
   ],
   "source": [
    "# Save the model\n",
    "timestamp = datetime.now().strftime('%Y%m%d_%H%M%S')\n",
    "model_save_path = os.path.join(dataset_path, mypretrainedname + f'_{timestamp}.pth')\n",
    "torch.save(model.state_dict(), model_save_path)\n",
    "print(f\"Model saved to {model_save_path}\")"
   ]
  },
  {
   "cell_type": "code",
   "execution_count": 17,
   "id": "b0221256-4d67-48f2-aa02-8e23dd836301",
   "metadata": {},
   "outputs": [],
   "source": [
    "# Predict Function\n",
    "def predict_image(image_path, model, device, transform, class_names):\n",
    "    image = Image.open(image_path).convert('RGB')\n",
    "    inputs = transform(image).unsqueeze(0).to(device)\n",
    "    model.eval()\n",
    "    with torch.no_grad():\n",
    "        outputs = model(inputs)\n",
    "        _, predicted = torch.max(outputs, 1)\n",
    "        confidence = torch.nn.functional.softmax(outputs, dim=1)[0] * 100\n",
    "    _, predicted_confidence = torch.max(confidence, 0)\n",
    "    \n",
    "    plt.imshow(image)\n",
    "    plt.title(f\"{class_names[predicted]} ({confidence[predicted].item():.2f}%)\") #({confidence[predicted]:.2f}%)\n",
    "    plt.show()"
   ]
  },
  {
   "cell_type": "code",
   "execution_count": 18,
   "id": "493962e2-1fc6-4aa6-9405-3d044164a848",
   "metadata": {},
   "outputs": [
    {
     "data": {
      "text/plain": [
       "<All keys matched successfully>"
      ]
     },
     "execution_count": 18,
     "metadata": {},
     "output_type": "execute_result"
    }
   ],
   "source": [
    "# Load the model weights \n",
    "filename = model_save_path\n",
    "#filename = dataset_path + \"/\" + \"model_20231220_105848.pth\"\n",
    "\n",
    "loaded_weights = torch.load(filename)\n",
    "\n",
    "# load the weights \n",
    "model.load_state_dict(loaded_weights)"
   ]
  },
  {
   "cell_type": "code",
   "execution_count": 19,
   "id": "3d009545-4963-4176-aeac-87beb7abb847",
   "metadata": {},
   "outputs": [
    {
     "name": "stdout",
     "output_type": "stream",
     "text": [
      "['goods', 'rejects']\n"
     ]
    }
   ],
   "source": [
    "print (class_names)"
   ]
  },
  {
   "cell_type": "code",
   "execution_count": 20,
   "id": "77882b42-6512-4037-a5c6-934f6ba51202",
   "metadata": {},
   "outputs": [],
   "source": [
    "# Your existing predict_image function\n",
    "def predict_image(image_path, model, device, transform, class_names):\n",
    "    image = Image.open(image_path).convert('RGB')\n",
    "    inputs = transform(image).unsqueeze(0).to(device)\n",
    "    model.eval()\n",
    "    with torch.no_grad():\n",
    "        outputs = model(inputs)\n",
    "        _, predicted = torch.max(outputs, 1)\n",
    "        confidence = torch.nn.functional.softmax(outputs, dim=1)[0] * 100\n",
    "    return class_names[predicted[0]], confidence[predicted[0]].item(), image\n"
   ]
  },
  {
   "cell_type": "raw",
   "id": "3019ecfa-abe8-456a-96f0-a9606001b5f1",
   "metadata": {},
   "source": [
    "# Updated function to process folders and calculate average prediction time\n",
    "def process_folders(image_folder_path, model, device, transform, class_names):\n",
    "    total_images = 0\n",
    "    misclassified_images = 0\n",
    "    total_prediction_time = 0\n",
    "\n",
    "    for class_folder in os.listdir(image_folder_path):\n",
    "        folder_path = os.path.join(image_folder_path, class_folder)\n",
    "        if os.path.isdir(folder_path):\n",
    "            for image_file in os.listdir(folder_path):\n",
    "                total_images += 1\n",
    "                image_path = os.path.join(folder_path, image_file)\n",
    "                \n",
    "                start_time = time.time()\n",
    "                predicted_label, confidence, image = predict_image(image_path, model, device, transform, class_names)\n",
    "                prediction_time = time.time() - start_time\n",
    "                total_prediction_time += prediction_time\n",
    "                \n",
    "                # Count and show image if misclassified\n",
    "                if predicted_label != class_folder:\n",
    "                    misclassified_images += 1\n",
    "                    plt.imshow(image)\n",
    "                    plt.title(f\"Predicted: {predicted_label} ({confidence:.2f}%), Actual: {class_folder}\")\n",
    "                    plt.show()\n",
    "\n",
    "    # Calculate and display results\n",
    "    if total_images > 0:\n",
    "        misclassification_percentage = (misclassified_images / total_images) * 100\n",
    "        average_prediction_time = total_prediction_time / total_images\n",
    "        print(f\"Total Images: {total_images}\")\n",
    "        print(f\"Misclassified Images: {misclassified_images}\")\n",
    "        print(f\"Misclassification Percentage: {misclassification_percentage:.2f}%\")\n",
    "        print(f\"Average Prediction Time per Image: {average_prediction_time:.4f} seconds\")\n",
    "    else:\n",
    "        print(\"No images found in the provided folder.\")\n"
   ]
  },
  {
   "cell_type": "code",
   "execution_count": 21,
   "id": "9d2920b1-edd0-4cc3-901b-275e9461fb0e",
   "metadata": {},
   "outputs": [],
   "source": [
    "from tqdm.notebook import tqdm  # Use tqdm.notebook.tqdm for Jupyter Notebook\n",
    "\n",
    "def process_folders(image_folder_path, model, device, transform, class_names):\n",
    "    total_images = 0\n",
    "    misclassified_images = 0\n",
    "    total_prediction_time = 0\n",
    "    \n",
    "    # Get the list of class folders\n",
    "    class_folders = [f for f in os.listdir(image_folder_path) if os.path.isdir(os.path.join(image_folder_path, f))]\n",
    "    \n",
    "    # Wrap the loop with tqdm for the progress bar\n",
    "    for class_folder in tqdm(class_folders, desc='Processing folders'):\n",
    "        folder_path = os.path.join(image_folder_path, class_folder)\n",
    "        \n",
    "        # Get the list of image files\n",
    "        image_files = [f for f in os.listdir(folder_path) if os.path.isfile(os.path.join(folder_path, f))]\n",
    "        \n",
    "        # Wrap the loop with tqdm for the progress bar\n",
    "        for image_file in tqdm(image_files, desc=f'Processing {class_folder}', leave=False):\n",
    "            total_images += 1\n",
    "            image_path = os.path.join(folder_path, image_file)\n",
    "            \n",
    "            start_time = time.time()\n",
    "            predicted_label, confidence, image = predict_image(image_path, model, device, transform, class_names)\n",
    "            prediction_time = time.time() - start_time\n",
    "            total_prediction_time += prediction_time\n",
    "            \n",
    "            # Count and show image if misclassified\n",
    "            if predicted_label != class_folder:\n",
    "                misclassified_images += 1\n",
    "                plt.imshow(image)\n",
    "                plt.title(f\"Predicted: {predicted_label} ({confidence:.2f}%), Actual: {class_folder}\")\n",
    "                plt.show()\n",
    "\n",
    "    # Calculate and display results\n",
    "    if total_images > 0:\n",
    "        misclassification_percentage = (misclassified_images / total_images) * 100\n",
    "        average_prediction_time = total_prediction_time / total_images\n",
    "        print(f\"Total Images: {total_images}\")\n",
    "        print(f\"Misclassified Images: {misclassified_images}\")\n",
    "        print(f\"Misclassification Percentage: {misclassification_percentage:.2f}%\")\n",
    "        print(f\"Average Prediction Time per Image: {average_prediction_time:.4f} seconds\")\n",
    "    else:\n",
    "        print(\"No images found in the provided folder.\")\n",
    "\n",
    "# Example usage:\n",
    "# process_folders('path_to_image_folder', model, device, transform, class_names)"
   ]
  },
  {
   "cell_type": "code",
   "execution_count": 22,
   "id": "306d72c6-dd0c-49b3-a6d5-af7c632dee4a",
   "metadata": {},
   "outputs": [
    {
     "data": {
      "application/vnd.jupyter.widget-view+json": {
       "model_id": "d1ad219d31ec49f78bd94590f32a1630",
       "version_major": 2,
       "version_minor": 0
      },
      "text/plain": [
       "Processing folders:   0%|          | 0/2 [00:00<?, ?it/s]"
      ]
     },
     "metadata": {},
     "output_type": "display_data"
    },
    {
     "data": {
      "application/vnd.jupyter.widget-view+json": {
       "model_id": "",
       "version_major": 2,
       "version_minor": 0
      },
      "text/plain": [
       "Processing goods:   0%|          | 0/468 [00:00<?, ?it/s]"
      ]
     },
     "metadata": {},
     "output_type": "display_data"
    },
    {
     "data": {
      "application/vnd.jupyter.widget-view+json": {
       "model_id": "",
       "version_major": 2,
       "version_minor": 0
      },
      "text/plain": [
       "Processing rejects:   0%|          | 0/234 [00:00<?, ?it/s]"
      ]
     },
     "metadata": {},
     "output_type": "display_data"
    },
    {
     "name": "stdout",
     "output_type": "stream",
     "text": [
      "Total Images: 702\n",
      "Misclassified Images: 0\n",
      "Misclassification Percentage: 0.00%\n",
      "Average Prediction Time per Image: 0.1566 seconds\n"
     ]
    }
   ],
   "source": [
    "# Example usage\n",
    "image_folder_path = dataset_path #'path_to_your_image_folder'\n",
    "# model, device, transform, and class_names need to be defined as per your model and dataset\n",
    "process_folders(image_folder_path, model, device, transform, class_names)\n"
   ]
  }
 ],
 "metadata": {
  "kernelspec": {
   "display_name": "Python 3 (ipykernel)",
   "language": "python",
   "name": "python3"
  },
  "language_info": {
   "codemirror_mode": {
    "name": "ipython",
    "version": 3
   },
   "file_extension": ".py",
   "mimetype": "text/x-python",
   "name": "python",
   "nbconvert_exporter": "python",
   "pygments_lexer": "ipython3",
   "version": "3.8.18"
  }
 },
 "nbformat": 4,
 "nbformat_minor": 5
}
